{
  "nbformat": 4,
  "nbformat_minor": 0,
  "metadata": {
    "colab": {
      "provenance": []
    },
    "kernelspec": {
      "name": "python3",
      "display_name": "Python 3"
    },
    "language_info": {
      "name": "python"
    }
  },
  "cells": [
    {
      "cell_type": "code",
      "execution_count": null,
      "metadata": {
        "id": "W6vC3LPDBoqv"
      },
      "outputs": [],
      "source": [
        "import tensorflow as tf"
      ]
    },
    {
      "cell_type": "markdown",
      "source": [
        "One Dimensional Tensor\n",
        "\n"
      ],
      "metadata": {
        "id": "MB8fVPaOEfnH"
      }
    },
    {
      "cell_type": "code",
      "source": [
        "onedimvar=tf.constant(4)\n",
        "print(onedimvar)"
      ],
      "metadata": {
        "colab": {
          "base_uri": "https://localhost:8080/"
        },
        "id": "1E9QiGpiB0oR",
        "outputId": "cb0d952b-b721-4d14-9bf6-0301f3ba26df"
      },
      "execution_count": null,
      "outputs": [
        {
          "output_type": "stream",
          "name": "stdout",
          "text": [
            "tf.Tensor(4, shape=(), dtype=int32)\n"
          ]
        }
      ]
    },
    {
      "cell_type": "code",
      "source": [
        "onedimvar=tf.constant([4,1,2,3,4])\n",
        "onedimvar"
      ],
      "metadata": {
        "colab": {
          "base_uri": "https://localhost:8080/"
        },
        "id": "Bg5nATWFB9AI",
        "outputId": "4cde95cc-3d39-46ed-e7b6-4f8bf56fd9f7"
      },
      "execution_count": null,
      "outputs": [
        {
          "output_type": "execute_result",
          "data": {
            "text/plain": [
              "<tf.Tensor: shape=(5,), dtype=int32, numpy=array([4, 1, 2, 3, 4], dtype=int32)>"
            ]
          },
          "metadata": {},
          "execution_count": 9
        }
      ]
    },
    {
      "cell_type": "markdown",
      "source": [
        "Two Dimensional Tensor"
      ],
      "metadata": {
        "id": "FnlEbpUSEope"
      }
    },
    {
      "cell_type": "code",
      "source": [
        "tensor2=tf.constant([\n",
        "    [1,2,3,4],\n",
        "    [2,3,4,5],\n",
        "    [1,2,4,5],\n",
        "    [7,4,5,5]\n",
        "])\n",
        "tensor2"
      ],
      "metadata": {
        "colab": {
          "base_uri": "https://localhost:8080/"
        },
        "id": "W99YmI19Ddc-",
        "outputId": "0a488e71-d7dc-4df3-9479-cf6472116c27"
      },
      "execution_count": null,
      "outputs": [
        {
          "output_type": "execute_result",
          "data": {
            "text/plain": [
              "<tf.Tensor: shape=(4, 4), dtype=int32, numpy=\n",
              "array([[1, 2, 3, 4],\n",
              "       [2, 3, 4, 5],\n",
              "       [1, 2, 4, 5],\n",
              "       [7, 4, 5, 5]], dtype=int32)>"
            ]
          },
          "metadata": {},
          "execution_count": 12
        }
      ]
    },
    {
      "cell_type": "markdown",
      "source": [
        "Three Dimensional Tensor"
      ],
      "metadata": {
        "id": "4uRTGmn1FbCD"
      }
    },
    {
      "cell_type": "code",
      "source": [
        "tensor3=tf.constant([\n",
        "    [[1,2,3,4],\n",
        "    [2,3,4,5],],\n",
        "    [[1,2,4,5],\n",
        "    [7,4,5,5]],\n",
        "     [[1,2,3,4],\n",
        "    [2,3,4,5],],\n",
        "    [[1,2,4,5],\n",
        "    [7,4,5,5]],\n",
        "])\n",
        "tensor3"
      ],
      "metadata": {
        "colab": {
          "base_uri": "https://localhost:8080/"
        },
        "id": "onn_uNNZDx6v",
        "outputId": "8404fb68-b79b-4cf9-974d-82152600996e"
      },
      "execution_count": null,
      "outputs": [
        {
          "output_type": "execute_result",
          "data": {
            "text/plain": [
              "<tf.Tensor: shape=(4, 2, 4), dtype=int32, numpy=\n",
              "array([[[1, 2, 3, 4],\n",
              "        [2, 3, 4, 5]],\n",
              "\n",
              "       [[1, 2, 4, 5],\n",
              "        [7, 4, 5, 5]],\n",
              "\n",
              "       [[1, 2, 3, 4],\n",
              "        [2, 3, 4, 5]],\n",
              "\n",
              "       [[1, 2, 4, 5],\n",
              "        [7, 4, 5, 5]]], dtype=int32)>"
            ]
          },
          "metadata": {},
          "execution_count": 13
        }
      ]
    },
    {
      "cell_type": "code",
      "source": [
        "tensor4=tf.constant([\n",
        "    [\n",
        "    [[1,2,3,4],\n",
        "    [2,3,4,5],],\n",
        "    [[1,2,4,5],\n",
        "    [7,4,5,5]],\n",
        "     [[1,2,3,4],\n",
        "    [2,3,4,5],],\n",
        "    [[1,2,4,5],\n",
        "    [7,4,5,5]],\n",
        "],\n",
        "    [\n",
        "    [[1,2,3,4],\n",
        "    [2,3,4,5],],\n",
        "    [[1,2,4,5],\n",
        "    [7,4,5,5]],\n",
        "     [[1,2,3,4],\n",
        "    [2,3,4,5],],\n",
        "    [[1,2,4,5],\n",
        "    [7,4,5,5]],\n",
        "],\n",
        "    [\n",
        "    [[1,2,3,4],\n",
        "    [2,3,4,5],],\n",
        "    [[1,2,4,5],\n",
        "    [7,4,5,5]],\n",
        "     [[1,2,3,4],\n",
        "    [2,3,4,5],],\n",
        "    [[1,2,4,5],\n",
        "    [7,4,5,5]],\n",
        "],\n",
        "    [\n",
        "    [[1,2,3,4],\n",
        "    [2,3,4,5],],\n",
        "    [[1,2,4,5],\n",
        "    [7,4,5,5]],\n",
        "     [[1,2,3,4],\n",
        "    [2,3,4,5],],\n",
        "    [[1,2,4,5],\n",
        "    [7,4,5,5]],\n",
        "],\n",
        "])\n",
        "tensor4"
      ],
      "metadata": {
        "colab": {
          "base_uri": "https://localhost:8080/"
        },
        "id": "Z1bT8_lEGYDu",
        "outputId": "18688b57-b125-4161-e550-0de95912ab6b"
      },
      "execution_count": null,
      "outputs": [
        {
          "output_type": "execute_result",
          "data": {
            "text/plain": [
              "<tf.Tensor: shape=(4, 4, 2, 4), dtype=int32, numpy=\n",
              "array([[[[1, 2, 3, 4],\n",
              "         [2, 3, 4, 5]],\n",
              "\n",
              "        [[1, 2, 4, 5],\n",
              "         [7, 4, 5, 5]],\n",
              "\n",
              "        [[1, 2, 3, 4],\n",
              "         [2, 3, 4, 5]],\n",
              "\n",
              "        [[1, 2, 4, 5],\n",
              "         [7, 4, 5, 5]]],\n",
              "\n",
              "\n",
              "       [[[1, 2, 3, 4],\n",
              "         [2, 3, 4, 5]],\n",
              "\n",
              "        [[1, 2, 4, 5],\n",
              "         [7, 4, 5, 5]],\n",
              "\n",
              "        [[1, 2, 3, 4],\n",
              "         [2, 3, 4, 5]],\n",
              "\n",
              "        [[1, 2, 4, 5],\n",
              "         [7, 4, 5, 5]]],\n",
              "\n",
              "\n",
              "       [[[1, 2, 3, 4],\n",
              "         [2, 3, 4, 5]],\n",
              "\n",
              "        [[1, 2, 4, 5],\n",
              "         [7, 4, 5, 5]],\n",
              "\n",
              "        [[1, 2, 3, 4],\n",
              "         [2, 3, 4, 5]],\n",
              "\n",
              "        [[1, 2, 4, 5],\n",
              "         [7, 4, 5, 5]]],\n",
              "\n",
              "\n",
              "       [[[1, 2, 3, 4],\n",
              "         [2, 3, 4, 5]],\n",
              "\n",
              "        [[1, 2, 4, 5],\n",
              "         [7, 4, 5, 5]],\n",
              "\n",
              "        [[1, 2, 3, 4],\n",
              "         [2, 3, 4, 5]],\n",
              "\n",
              "        [[1, 2, 4, 5],\n",
              "         [7, 4, 5, 5]]]], dtype=int32)>"
            ]
          },
          "metadata": {},
          "execution_count": 15
        }
      ]
    },
    {
      "cell_type": "code",
      "source": [],
      "metadata": {
        "id": "WYHf5MDkGlWY"
      },
      "execution_count": null,
      "outputs": []
    }
  ]
}