{
  "nbformat": 4,
  "nbformat_minor": 0,
  "metadata": {
    "colab": {
      "provenance": []
    },
    "kernelspec": {
      "name": "python3",
      "display_name": "Python 3"
    },
    "language_info": {
      "name": "python"
    }
  },
  "cells": [
    {
      "cell_type": "code",
      "execution_count": 1,
      "metadata": {
        "id": "W6vC3LPDBoqv"
      },
      "outputs": [],
      "source": [
        "import tensorflow as tf"
      ]
    },
    {
      "cell_type": "markdown",
      "source": [
        "One Dimensional Tensor\n",
        "\n"
      ],
      "metadata": {
        "id": "MB8fVPaOEfnH"
      }
    },
    {
      "cell_type": "code",
      "source": [
        "onedimvar=tf.constant(4)\n",
        "print(onedimvar)"
      ],
      "metadata": {
        "colab": {
          "base_uri": "https://localhost:8080/"
        },
        "id": "1E9QiGpiB0oR",
        "outputId": "0d6332e2-49cf-4c43-f965-059fc0606811"
      },
      "execution_count": 2,
      "outputs": [
        {
          "output_type": "stream",
          "name": "stdout",
          "text": [
            "tf.Tensor(4, shape=(), dtype=int32)\n"
          ]
        }
      ]
    },
    {
      "cell_type": "code",
      "source": [
        "onedimvar=tf.constant([4,1,2,3,4])\n",
        "onedimvar"
      ],
      "metadata": {
        "colab": {
          "base_uri": "https://localhost:8080/"
        },
        "id": "Bg5nATWFB9AI",
        "outputId": "ddca446d-e77a-4f70-9e6b-93cf1a666355"
      },
      "execution_count": 3,
      "outputs": [
        {
          "output_type": "execute_result",
          "data": {
            "text/plain": [
              "<tf.Tensor: shape=(5,), dtype=int32, numpy=array([4, 1, 2, 3, 4], dtype=int32)>"
            ]
          },
          "metadata": {},
          "execution_count": 3
        }
      ]
    },
    {
      "cell_type": "markdown",
      "source": [
        "Two Dimensional Tensor"
      ],
      "metadata": {
        "id": "FnlEbpUSEope"
      }
    },
    {
      "cell_type": "code",
      "source": [
        "tensor2=tf.constant([\n",
        "    [1,2,3,4],\n",
        "    [2,3,4,5],\n",
        "    [1,2,4,5],\n",
        "    [7,4,5,5]\n",
        "])\n",
        "tensor2"
      ],
      "metadata": {
        "colab": {
          "base_uri": "https://localhost:8080/"
        },
        "id": "W99YmI19Ddc-",
        "outputId": "f42d223b-46e8-4113-fa07-4b782b459601"
      },
      "execution_count": 4,
      "outputs": [
        {
          "output_type": "execute_result",
          "data": {
            "text/plain": [
              "<tf.Tensor: shape=(4, 4), dtype=int32, numpy=\n",
              "array([[1, 2, 3, 4],\n",
              "       [2, 3, 4, 5],\n",
              "       [1, 2, 4, 5],\n",
              "       [7, 4, 5, 5]], dtype=int32)>"
            ]
          },
          "metadata": {},
          "execution_count": 4
        }
      ]
    },
    {
      "cell_type": "markdown",
      "source": [
        "Three Dimensional Tensor"
      ],
      "metadata": {
        "id": "4uRTGmn1FbCD"
      }
    },
    {
      "cell_type": "code",
      "source": [
        "tensor3=tf.constant([\n",
        "    [[1,2,3,4],\n",
        "    [2,3,4,5],],\n",
        "    [[1,2,4,5],\n",
        "    [7,4,5,5]],\n",
        "     [[1,2,3,4],\n",
        "    [2,3,4,5],],\n",
        "    [[1,2,4,5],\n",
        "    [7,4,5,5]],\n",
        "])\n",
        "tensor3"
      ],
      "metadata": {
        "colab": {
          "base_uri": "https://localhost:8080/"
        },
        "id": "onn_uNNZDx6v",
        "outputId": "d2ab9eb7-d841-4beb-8cfc-960b3117f919"
      },
      "execution_count": 5,
      "outputs": [
        {
          "output_type": "execute_result",
          "data": {
            "text/plain": [
              "<tf.Tensor: shape=(4, 2, 4), dtype=int32, numpy=\n",
              "array([[[1, 2, 3, 4],\n",
              "        [2, 3, 4, 5]],\n",
              "\n",
              "       [[1, 2, 4, 5],\n",
              "        [7, 4, 5, 5]],\n",
              "\n",
              "       [[1, 2, 3, 4],\n",
              "        [2, 3, 4, 5]],\n",
              "\n",
              "       [[1, 2, 4, 5],\n",
              "        [7, 4, 5, 5]]], dtype=int32)>"
            ]
          },
          "metadata": {},
          "execution_count": 5
        }
      ]
    },
    {
      "cell_type": "code",
      "source": [
        "tensor4=tf.constant([\n",
        "    [\n",
        "    [[1,2,3,4],\n",
        "    [2,3,4,5],],\n",
        "    [[1,2,4,5],\n",
        "    [7,4,5,5]],\n",
        "     [[1,2,3,4],\n",
        "    [2,3,4,5],],\n",
        "    [[1,2,4,5],\n",
        "    [7,4,5,5]],\n",
        "],\n",
        "    [\n",
        "    [[1,2,3,4],\n",
        "    [2,3,4,5],],\n",
        "    [[1,2,4,5],\n",
        "    [7,4,5,5]],\n",
        "     [[1,2,3,4],\n",
        "    [2,3,4,5],],\n",
        "    [[1,2,4,5],\n",
        "    [7,4,5,5]],\n",
        "],\n",
        "    [\n",
        "    [[1,2,3,4],\n",
        "    [2,3,4,5],],\n",
        "    [[1,2,4,5],\n",
        "    [7,4,5,5]],\n",
        "     [[1,2,3,4],\n",
        "    [2,3,4,5],],\n",
        "    [[1,2,4,5],\n",
        "    [7,4,5,5]],\n",
        "],\n",
        "    [\n",
        "    [[1,2,3,4],\n",
        "    [2,3,4,5],],\n",
        "    [[1,2,4,5],\n",
        "    [7,4,5,5]],\n",
        "     [[1,2,3,4],\n",
        "    [2,3,4,5],],\n",
        "    [[1,2,4,5],\n",
        "    [7,4,5,5]],\n",
        "],\n",
        "])\n",
        "tensor4"
      ],
      "metadata": {
        "colab": {
          "base_uri": "https://localhost:8080/"
        },
        "id": "Z1bT8_lEGYDu",
        "outputId": "a8597cdd-24fd-4621-b713-ea09ce7c02b1"
      },
      "execution_count": 6,
      "outputs": [
        {
          "output_type": "execute_result",
          "data": {
            "text/plain": [
              "<tf.Tensor: shape=(4, 4, 2, 4), dtype=int32, numpy=\n",
              "array([[[[1, 2, 3, 4],\n",
              "         [2, 3, 4, 5]],\n",
              "\n",
              "        [[1, 2, 4, 5],\n",
              "         [7, 4, 5, 5]],\n",
              "\n",
              "        [[1, 2, 3, 4],\n",
              "         [2, 3, 4, 5]],\n",
              "\n",
              "        [[1, 2, 4, 5],\n",
              "         [7, 4, 5, 5]]],\n",
              "\n",
              "\n",
              "       [[[1, 2, 3, 4],\n",
              "         [2, 3, 4, 5]],\n",
              "\n",
              "        [[1, 2, 4, 5],\n",
              "         [7, 4, 5, 5]],\n",
              "\n",
              "        [[1, 2, 3, 4],\n",
              "         [2, 3, 4, 5]],\n",
              "\n",
              "        [[1, 2, 4, 5],\n",
              "         [7, 4, 5, 5]]],\n",
              "\n",
              "\n",
              "       [[[1, 2, 3, 4],\n",
              "         [2, 3, 4, 5]],\n",
              "\n",
              "        [[1, 2, 4, 5],\n",
              "         [7, 4, 5, 5]],\n",
              "\n",
              "        [[1, 2, 3, 4],\n",
              "         [2, 3, 4, 5]],\n",
              "\n",
              "        [[1, 2, 4, 5],\n",
              "         [7, 4, 5, 5]]],\n",
              "\n",
              "\n",
              "       [[[1, 2, 3, 4],\n",
              "         [2, 3, 4, 5]],\n",
              "\n",
              "        [[1, 2, 4, 5],\n",
              "         [7, 4, 5, 5]],\n",
              "\n",
              "        [[1, 2, 3, 4],\n",
              "         [2, 3, 4, 5]],\n",
              "\n",
              "        [[1, 2, 4, 5],\n",
              "         [7, 4, 5, 5]]]], dtype=int32)>"
            ]
          },
          "metadata": {},
          "execution_count": 6
        }
      ]
    },
    {
      "cell_type": "markdown",
      "source": [
        "Eye"
      ],
      "metadata": {
        "id": "JfnHPAkKmLR8"
      }
    },
    {
      "cell_type": "code",
      "source": [
        "eye_tensor=tf.eye(\n",
        "    num_rows=5,\n",
        "    num_columns=5,\n",
        "    batch_shape=None,\n",
        "    dtype=tf.dtypes.float32\n",
        ")\n",
        "eye_tensor"
      ],
      "metadata": {
        "colab": {
          "base_uri": "https://localhost:8080/"
        },
        "id": "O1mxMzhJlBd8",
        "outputId": "a68de416-7311-4006-bff0-38eec09046d9"
      },
      "execution_count": 7,
      "outputs": [
        {
          "output_type": "execute_result",
          "data": {
            "text/plain": [
              "<tf.Tensor: shape=(5, 5), dtype=float32, numpy=\n",
              "array([[1., 0., 0., 0., 0.],\n",
              "       [0., 1., 0., 0., 0.],\n",
              "       [0., 0., 1., 0., 0.],\n",
              "       [0., 0., 0., 1., 0.],\n",
              "       [0., 0., 0., 0., 1.]], dtype=float32)>"
            ]
          },
          "metadata": {},
          "execution_count": 7
        }
      ]
    },
    {
      "cell_type": "code",
      "source": [
        "eye_tensor=tf.eye(\n",
        "    num_rows=5,\n",
        "    num_columns=None,\n",
        "    batch_shape=[5,9],\n",
        "    dtype=tf.dtypes.float32\n",
        ")\n",
        "print(eye_tensor)"
      ],
      "metadata": {
        "colab": {
          "base_uri": "https://localhost:8080/"
        },
        "id": "9hpG2EkQnJQk",
        "outputId": "5a51e138-08f2-4fa5-91b8-4a7228c76038"
      },
      "execution_count": 8,
      "outputs": [
        {
          "output_type": "stream",
          "name": "stdout",
          "text": [
            "tf.Tensor(\n",
            "[[[[1. 0. 0. 0. 0.]\n",
            "   [0. 1. 0. 0. 0.]\n",
            "   [0. 0. 1. 0. 0.]\n",
            "   [0. 0. 0. 1. 0.]\n",
            "   [0. 0. 0. 0. 1.]]\n",
            "\n",
            "  [[1. 0. 0. 0. 0.]\n",
            "   [0. 1. 0. 0. 0.]\n",
            "   [0. 0. 1. 0. 0.]\n",
            "   [0. 0. 0. 1. 0.]\n",
            "   [0. 0. 0. 0. 1.]]\n",
            "\n",
            "  [[1. 0. 0. 0. 0.]\n",
            "   [0. 1. 0. 0. 0.]\n",
            "   [0. 0. 1. 0. 0.]\n",
            "   [0. 0. 0. 1. 0.]\n",
            "   [0. 0. 0. 0. 1.]]\n",
            "\n",
            "  ...\n",
            "\n",
            "  [[1. 0. 0. 0. 0.]\n",
            "   [0. 1. 0. 0. 0.]\n",
            "   [0. 0. 1. 0. 0.]\n",
            "   [0. 0. 0. 1. 0.]\n",
            "   [0. 0. 0. 0. 1.]]\n",
            "\n",
            "  [[1. 0. 0. 0. 0.]\n",
            "   [0. 1. 0. 0. 0.]\n",
            "   [0. 0. 1. 0. 0.]\n",
            "   [0. 0. 0. 1. 0.]\n",
            "   [0. 0. 0. 0. 1.]]\n",
            "\n",
            "  [[1. 0. 0. 0. 0.]\n",
            "   [0. 1. 0. 0. 0.]\n",
            "   [0. 0. 1. 0. 0.]\n",
            "   [0. 0. 0. 1. 0.]\n",
            "   [0. 0. 0. 0. 1.]]]\n",
            "\n",
            "\n",
            " [[[1. 0. 0. 0. 0.]\n",
            "   [0. 1. 0. 0. 0.]\n",
            "   [0. 0. 1. 0. 0.]\n",
            "   [0. 0. 0. 1. 0.]\n",
            "   [0. 0. 0. 0. 1.]]\n",
            "\n",
            "  [[1. 0. 0. 0. 0.]\n",
            "   [0. 1. 0. 0. 0.]\n",
            "   [0. 0. 1. 0. 0.]\n",
            "   [0. 0. 0. 1. 0.]\n",
            "   [0. 0. 0. 0. 1.]]\n",
            "\n",
            "  [[1. 0. 0. 0. 0.]\n",
            "   [0. 1. 0. 0. 0.]\n",
            "   [0. 0. 1. 0. 0.]\n",
            "   [0. 0. 0. 1. 0.]\n",
            "   [0. 0. 0. 0. 1.]]\n",
            "\n",
            "  ...\n",
            "\n",
            "  [[1. 0. 0. 0. 0.]\n",
            "   [0. 1. 0. 0. 0.]\n",
            "   [0. 0. 1. 0. 0.]\n",
            "   [0. 0. 0. 1. 0.]\n",
            "   [0. 0. 0. 0. 1.]]\n",
            "\n",
            "  [[1. 0. 0. 0. 0.]\n",
            "   [0. 1. 0. 0. 0.]\n",
            "   [0. 0. 1. 0. 0.]\n",
            "   [0. 0. 0. 1. 0.]\n",
            "   [0. 0. 0. 0. 1.]]\n",
            "\n",
            "  [[1. 0. 0. 0. 0.]\n",
            "   [0. 1. 0. 0. 0.]\n",
            "   [0. 0. 1. 0. 0.]\n",
            "   [0. 0. 0. 1. 0.]\n",
            "   [0. 0. 0. 0. 1.]]]\n",
            "\n",
            "\n",
            " [[[1. 0. 0. 0. 0.]\n",
            "   [0. 1. 0. 0. 0.]\n",
            "   [0. 0. 1. 0. 0.]\n",
            "   [0. 0. 0. 1. 0.]\n",
            "   [0. 0. 0. 0. 1.]]\n",
            "\n",
            "  [[1. 0. 0. 0. 0.]\n",
            "   [0. 1. 0. 0. 0.]\n",
            "   [0. 0. 1. 0. 0.]\n",
            "   [0. 0. 0. 1. 0.]\n",
            "   [0. 0. 0. 0. 1.]]\n",
            "\n",
            "  [[1. 0. 0. 0. 0.]\n",
            "   [0. 1. 0. 0. 0.]\n",
            "   [0. 0. 1. 0. 0.]\n",
            "   [0. 0. 0. 1. 0.]\n",
            "   [0. 0. 0. 0. 1.]]\n",
            "\n",
            "  ...\n",
            "\n",
            "  [[1. 0. 0. 0. 0.]\n",
            "   [0. 1. 0. 0. 0.]\n",
            "   [0. 0. 1. 0. 0.]\n",
            "   [0. 0. 0. 1. 0.]\n",
            "   [0. 0. 0. 0. 1.]]\n",
            "\n",
            "  [[1. 0. 0. 0. 0.]\n",
            "   [0. 1. 0. 0. 0.]\n",
            "   [0. 0. 1. 0. 0.]\n",
            "   [0. 0. 0. 1. 0.]\n",
            "   [0. 0. 0. 0. 1.]]\n",
            "\n",
            "  [[1. 0. 0. 0. 0.]\n",
            "   [0. 1. 0. 0. 0.]\n",
            "   [0. 0. 1. 0. 0.]\n",
            "   [0. 0. 0. 1. 0.]\n",
            "   [0. 0. 0. 0. 1.]]]\n",
            "\n",
            "\n",
            " [[[1. 0. 0. 0. 0.]\n",
            "   [0. 1. 0. 0. 0.]\n",
            "   [0. 0. 1. 0. 0.]\n",
            "   [0. 0. 0. 1. 0.]\n",
            "   [0. 0. 0. 0. 1.]]\n",
            "\n",
            "  [[1. 0. 0. 0. 0.]\n",
            "   [0. 1. 0. 0. 0.]\n",
            "   [0. 0. 1. 0. 0.]\n",
            "   [0. 0. 0. 1. 0.]\n",
            "   [0. 0. 0. 0. 1.]]\n",
            "\n",
            "  [[1. 0. 0. 0. 0.]\n",
            "   [0. 1. 0. 0. 0.]\n",
            "   [0. 0. 1. 0. 0.]\n",
            "   [0. 0. 0. 1. 0.]\n",
            "   [0. 0. 0. 0. 1.]]\n",
            "\n",
            "  ...\n",
            "\n",
            "  [[1. 0. 0. 0. 0.]\n",
            "   [0. 1. 0. 0. 0.]\n",
            "   [0. 0. 1. 0. 0.]\n",
            "   [0. 0. 0. 1. 0.]\n",
            "   [0. 0. 0. 0. 1.]]\n",
            "\n",
            "  [[1. 0. 0. 0. 0.]\n",
            "   [0. 1. 0. 0. 0.]\n",
            "   [0. 0. 1. 0. 0.]\n",
            "   [0. 0. 0. 1. 0.]\n",
            "   [0. 0. 0. 0. 1.]]\n",
            "\n",
            "  [[1. 0. 0. 0. 0.]\n",
            "   [0. 1. 0. 0. 0.]\n",
            "   [0. 0. 1. 0. 0.]\n",
            "   [0. 0. 0. 1. 0.]\n",
            "   [0. 0. 0. 0. 1.]]]\n",
            "\n",
            "\n",
            " [[[1. 0. 0. 0. 0.]\n",
            "   [0. 1. 0. 0. 0.]\n",
            "   [0. 0. 1. 0. 0.]\n",
            "   [0. 0. 0. 1. 0.]\n",
            "   [0. 0. 0. 0. 1.]]\n",
            "\n",
            "  [[1. 0. 0. 0. 0.]\n",
            "   [0. 1. 0. 0. 0.]\n",
            "   [0. 0. 1. 0. 0.]\n",
            "   [0. 0. 0. 1. 0.]\n",
            "   [0. 0. 0. 0. 1.]]\n",
            "\n",
            "  [[1. 0. 0. 0. 0.]\n",
            "   [0. 1. 0. 0. 0.]\n",
            "   [0. 0. 1. 0. 0.]\n",
            "   [0. 0. 0. 1. 0.]\n",
            "   [0. 0. 0. 0. 1.]]\n",
            "\n",
            "  ...\n",
            "\n",
            "  [[1. 0. 0. 0. 0.]\n",
            "   [0. 1. 0. 0. 0.]\n",
            "   [0. 0. 1. 0. 0.]\n",
            "   [0. 0. 0. 1. 0.]\n",
            "   [0. 0. 0. 0. 1.]]\n",
            "\n",
            "  [[1. 0. 0. 0. 0.]\n",
            "   [0. 1. 0. 0. 0.]\n",
            "   [0. 0. 1. 0. 0.]\n",
            "   [0. 0. 0. 1. 0.]\n",
            "   [0. 0. 0. 0. 1.]]\n",
            "\n",
            "  [[1. 0. 0. 0. 0.]\n",
            "   [0. 1. 0. 0. 0.]\n",
            "   [0. 0. 1. 0. 0.]\n",
            "   [0. 0. 0. 1. 0.]\n",
            "   [0. 0. 0. 0. 1.]]]], shape=(5, 9, 5, 5), dtype=float32)\n"
          ]
        }
      ]
    },
    {
      "cell_type": "markdown",
      "source": [
        "Fill"
      ],
      "metadata": {
        "id": "HXfl7hE0pOSs"
      }
    },
    {
      "cell_type": "code",
      "source": [
        "fill_tensor=tf.fill(\n",
        "    [3,3,3,3,3],11,name=None\n",
        ")\n",
        "print(fill_tensor)"
      ],
      "metadata": {
        "colab": {
          "base_uri": "https://localhost:8080/"
        },
        "id": "hC5qZuAon-Vc",
        "outputId": "6cbef77d-1251-4403-8931-9d05ee12aa73"
      },
      "execution_count": 9,
      "outputs": [
        {
          "output_type": "stream",
          "name": "stdout",
          "text": [
            "tf.Tensor(\n",
            "[[[[[11 11 11]\n",
            "    [11 11 11]\n",
            "    [11 11 11]]\n",
            "\n",
            "   [[11 11 11]\n",
            "    [11 11 11]\n",
            "    [11 11 11]]\n",
            "\n",
            "   [[11 11 11]\n",
            "    [11 11 11]\n",
            "    [11 11 11]]]\n",
            "\n",
            "\n",
            "  [[[11 11 11]\n",
            "    [11 11 11]\n",
            "    [11 11 11]]\n",
            "\n",
            "   [[11 11 11]\n",
            "    [11 11 11]\n",
            "    [11 11 11]]\n",
            "\n",
            "   [[11 11 11]\n",
            "    [11 11 11]\n",
            "    [11 11 11]]]\n",
            "\n",
            "\n",
            "  [[[11 11 11]\n",
            "    [11 11 11]\n",
            "    [11 11 11]]\n",
            "\n",
            "   [[11 11 11]\n",
            "    [11 11 11]\n",
            "    [11 11 11]]\n",
            "\n",
            "   [[11 11 11]\n",
            "    [11 11 11]\n",
            "    [11 11 11]]]]\n",
            "\n",
            "\n",
            "\n",
            " [[[[11 11 11]\n",
            "    [11 11 11]\n",
            "    [11 11 11]]\n",
            "\n",
            "   [[11 11 11]\n",
            "    [11 11 11]\n",
            "    [11 11 11]]\n",
            "\n",
            "   [[11 11 11]\n",
            "    [11 11 11]\n",
            "    [11 11 11]]]\n",
            "\n",
            "\n",
            "  [[[11 11 11]\n",
            "    [11 11 11]\n",
            "    [11 11 11]]\n",
            "\n",
            "   [[11 11 11]\n",
            "    [11 11 11]\n",
            "    [11 11 11]]\n",
            "\n",
            "   [[11 11 11]\n",
            "    [11 11 11]\n",
            "    [11 11 11]]]\n",
            "\n",
            "\n",
            "  [[[11 11 11]\n",
            "    [11 11 11]\n",
            "    [11 11 11]]\n",
            "\n",
            "   [[11 11 11]\n",
            "    [11 11 11]\n",
            "    [11 11 11]]\n",
            "\n",
            "   [[11 11 11]\n",
            "    [11 11 11]\n",
            "    [11 11 11]]]]\n",
            "\n",
            "\n",
            "\n",
            " [[[[11 11 11]\n",
            "    [11 11 11]\n",
            "    [11 11 11]]\n",
            "\n",
            "   [[11 11 11]\n",
            "    [11 11 11]\n",
            "    [11 11 11]]\n",
            "\n",
            "   [[11 11 11]\n",
            "    [11 11 11]\n",
            "    [11 11 11]]]\n",
            "\n",
            "\n",
            "  [[[11 11 11]\n",
            "    [11 11 11]\n",
            "    [11 11 11]]\n",
            "\n",
            "   [[11 11 11]\n",
            "    [11 11 11]\n",
            "    [11 11 11]]\n",
            "\n",
            "   [[11 11 11]\n",
            "    [11 11 11]\n",
            "    [11 11 11]]]\n",
            "\n",
            "\n",
            "  [[[11 11 11]\n",
            "    [11 11 11]\n",
            "    [11 11 11]]\n",
            "\n",
            "   [[11 11 11]\n",
            "    [11 11 11]\n",
            "    [11 11 11]]\n",
            "\n",
            "   [[11 11 11]\n",
            "    [11 11 11]\n",
            "    [11 11 11]]]]], shape=(3, 3, 3, 3, 3), dtype=int32)\n"
          ]
        }
      ]
    },
    {
      "cell_type": "markdown",
      "source": [
        "One"
      ],
      "metadata": {
        "id": "Elu4gHCzqPN0"
      }
    },
    {
      "cell_type": "code",
      "source": [
        "one_tensor=tf.ones(\n",
        "    [5,5,15],\n",
        "    dtype=tf.float32,\n",
        "    name=None\n",
        ")\n",
        "print(one_tensor)"
      ],
      "metadata": {
        "colab": {
          "base_uri": "https://localhost:8080/"
        },
        "id": "v3_p-hQypQcU",
        "outputId": "86b271dc-cc45-42dc-8a1f-44a66345c383"
      },
      "execution_count": 10,
      "outputs": [
        {
          "output_type": "stream",
          "name": "stdout",
          "text": [
            "tf.Tensor(\n",
            "[[[1. 1. 1. 1. 1. 1. 1. 1. 1. 1. 1. 1. 1. 1. 1.]\n",
            "  [1. 1. 1. 1. 1. 1. 1. 1. 1. 1. 1. 1. 1. 1. 1.]\n",
            "  [1. 1. 1. 1. 1. 1. 1. 1. 1. 1. 1. 1. 1. 1. 1.]\n",
            "  [1. 1. 1. 1. 1. 1. 1. 1. 1. 1. 1. 1. 1. 1. 1.]\n",
            "  [1. 1. 1. 1. 1. 1. 1. 1. 1. 1. 1. 1. 1. 1. 1.]]\n",
            "\n",
            " [[1. 1. 1. 1. 1. 1. 1. 1. 1. 1. 1. 1. 1. 1. 1.]\n",
            "  [1. 1. 1. 1. 1. 1. 1. 1. 1. 1. 1. 1. 1. 1. 1.]\n",
            "  [1. 1. 1. 1. 1. 1. 1. 1. 1. 1. 1. 1. 1. 1. 1.]\n",
            "  [1. 1. 1. 1. 1. 1. 1. 1. 1. 1. 1. 1. 1. 1. 1.]\n",
            "  [1. 1. 1. 1. 1. 1. 1. 1. 1. 1. 1. 1. 1. 1. 1.]]\n",
            "\n",
            " [[1. 1. 1. 1. 1. 1. 1. 1. 1. 1. 1. 1. 1. 1. 1.]\n",
            "  [1. 1. 1. 1. 1. 1. 1. 1. 1. 1. 1. 1. 1. 1. 1.]\n",
            "  [1. 1. 1. 1. 1. 1. 1. 1. 1. 1. 1. 1. 1. 1. 1.]\n",
            "  [1. 1. 1. 1. 1. 1. 1. 1. 1. 1. 1. 1. 1. 1. 1.]\n",
            "  [1. 1. 1. 1. 1. 1. 1. 1. 1. 1. 1. 1. 1. 1. 1.]]\n",
            "\n",
            " [[1. 1. 1. 1. 1. 1. 1. 1. 1. 1. 1. 1. 1. 1. 1.]\n",
            "  [1. 1. 1. 1. 1. 1. 1. 1. 1. 1. 1. 1. 1. 1. 1.]\n",
            "  [1. 1. 1. 1. 1. 1. 1. 1. 1. 1. 1. 1. 1. 1. 1.]\n",
            "  [1. 1. 1. 1. 1. 1. 1. 1. 1. 1. 1. 1. 1. 1. 1.]\n",
            "  [1. 1. 1. 1. 1. 1. 1. 1. 1. 1. 1. 1. 1. 1. 1.]]\n",
            "\n",
            " [[1. 1. 1. 1. 1. 1. 1. 1. 1. 1. 1. 1. 1. 1. 1.]\n",
            "  [1. 1. 1. 1. 1. 1. 1. 1. 1. 1. 1. 1. 1. 1. 1.]\n",
            "  [1. 1. 1. 1. 1. 1. 1. 1. 1. 1. 1. 1. 1. 1. 1.]\n",
            "  [1. 1. 1. 1. 1. 1. 1. 1. 1. 1. 1. 1. 1. 1. 1.]\n",
            "  [1. 1. 1. 1. 1. 1. 1. 1. 1. 1. 1. 1. 1. 1. 1.]]], shape=(5, 5, 15), dtype=float32)\n"
          ]
        }
      ]
    },
    {
      "cell_type": "code",
      "source": [
        "ones_like_tensor=tf.ones_like(fill_tensor,\n",
        "                              dtype=None,\n",
        "                              name=None\n",
        "\n",
        ")\n",
        "print(ones_like_tensor)"
      ],
      "metadata": {
        "colab": {
          "base_uri": "https://localhost:8080/"
        },
        "id": "uo_XZRrDrXfL",
        "outputId": "92b7bb4a-c814-4765-d93a-aebd49e42c6c"
      },
      "execution_count": 11,
      "outputs": [
        {
          "output_type": "stream",
          "name": "stdout",
          "text": [
            "tf.Tensor(\n",
            "[[[[[1 1 1]\n",
            "    [1 1 1]\n",
            "    [1 1 1]]\n",
            "\n",
            "   [[1 1 1]\n",
            "    [1 1 1]\n",
            "    [1 1 1]]\n",
            "\n",
            "   [[1 1 1]\n",
            "    [1 1 1]\n",
            "    [1 1 1]]]\n",
            "\n",
            "\n",
            "  [[[1 1 1]\n",
            "    [1 1 1]\n",
            "    [1 1 1]]\n",
            "\n",
            "   [[1 1 1]\n",
            "    [1 1 1]\n",
            "    [1 1 1]]\n",
            "\n",
            "   [[1 1 1]\n",
            "    [1 1 1]\n",
            "    [1 1 1]]]\n",
            "\n",
            "\n",
            "  [[[1 1 1]\n",
            "    [1 1 1]\n",
            "    [1 1 1]]\n",
            "\n",
            "   [[1 1 1]\n",
            "    [1 1 1]\n",
            "    [1 1 1]]\n",
            "\n",
            "   [[1 1 1]\n",
            "    [1 1 1]\n",
            "    [1 1 1]]]]\n",
            "\n",
            "\n",
            "\n",
            " [[[[1 1 1]\n",
            "    [1 1 1]\n",
            "    [1 1 1]]\n",
            "\n",
            "   [[1 1 1]\n",
            "    [1 1 1]\n",
            "    [1 1 1]]\n",
            "\n",
            "   [[1 1 1]\n",
            "    [1 1 1]\n",
            "    [1 1 1]]]\n",
            "\n",
            "\n",
            "  [[[1 1 1]\n",
            "    [1 1 1]\n",
            "    [1 1 1]]\n",
            "\n",
            "   [[1 1 1]\n",
            "    [1 1 1]\n",
            "    [1 1 1]]\n",
            "\n",
            "   [[1 1 1]\n",
            "    [1 1 1]\n",
            "    [1 1 1]]]\n",
            "\n",
            "\n",
            "  [[[1 1 1]\n",
            "    [1 1 1]\n",
            "    [1 1 1]]\n",
            "\n",
            "   [[1 1 1]\n",
            "    [1 1 1]\n",
            "    [1 1 1]]\n",
            "\n",
            "   [[1 1 1]\n",
            "    [1 1 1]\n",
            "    [1 1 1]]]]\n",
            "\n",
            "\n",
            "\n",
            " [[[[1 1 1]\n",
            "    [1 1 1]\n",
            "    [1 1 1]]\n",
            "\n",
            "   [[1 1 1]\n",
            "    [1 1 1]\n",
            "    [1 1 1]]\n",
            "\n",
            "   [[1 1 1]\n",
            "    [1 1 1]\n",
            "    [1 1 1]]]\n",
            "\n",
            "\n",
            "  [[[1 1 1]\n",
            "    [1 1 1]\n",
            "    [1 1 1]]\n",
            "\n",
            "   [[1 1 1]\n",
            "    [1 1 1]\n",
            "    [1 1 1]]\n",
            "\n",
            "   [[1 1 1]\n",
            "    [1 1 1]\n",
            "    [1 1 1]]]\n",
            "\n",
            "\n",
            "  [[[1 1 1]\n",
            "    [1 1 1]\n",
            "    [1 1 1]]\n",
            "\n",
            "   [[1 1 1]\n",
            "    [1 1 1]\n",
            "    [1 1 1]]\n",
            "\n",
            "   [[1 1 1]\n",
            "    [1 1 1]\n",
            "    [1 1 1]]]]], shape=(3, 3, 3, 3, 3), dtype=int32)\n"
          ]
        }
      ]
    },
    {
      "cell_type": "markdown",
      "source": [
        "Normal"
      ],
      "metadata": {
        "id": "9gKt2ZQXCZPJ"
      }
    },
    {
      "cell_type": "code",
      "source": [
        "normal_tensor=tf.random.normal(\n",
        "    [5,5,5],\n",
        "     mean=0.0,\n",
        "    stddev=1.0,\n",
        "\n",
        "    dtype=tf.float32,\n",
        "    seed=None,\n",
        "    name=None\n",
        ")\n",
        "print(normal_tensor)"
      ],
      "metadata": {
        "colab": {
          "base_uri": "https://localhost:8080/"
        },
        "id": "qzRtbYxtBc_v",
        "outputId": "1b552d45-697d-4d59-f3dc-d19d0d8bce6f"
      },
      "execution_count": 12,
      "outputs": [
        {
          "output_type": "stream",
          "name": "stdout",
          "text": [
            "tf.Tensor(\n",
            "[[[ 1.2294166   0.717067   -0.39894384 -1.0389483  -1.170547  ]\n",
            "  [ 0.34977913 -0.0050879  -2.4139454   1.50332    -1.3440794 ]\n",
            "  [ 0.36100695 -1.1189206  -0.758419    1.1587923   0.06719146]\n",
            "  [ 1.9839876  -0.30148947  1.9287853   0.17481804 -1.0367182 ]\n",
            "  [-1.4391909  -0.08184283  0.31649163 -0.29679576 -0.5699517 ]]\n",
            "\n",
            " [[-1.1690314  -0.06285986  2.4414358   1.9322402  -1.3630947 ]\n",
            "  [-0.69634473  1.2607899   0.36662433 -1.1837257   0.8849497 ]\n",
            "  [-0.20019662 -0.8015511   0.26232073 -1.5423216  -0.11986133]\n",
            "  [-0.5371377  -0.589376    0.13128155 -0.71809995 -1.6737349 ]\n",
            "  [-0.12205825  0.2731576  -1.0520617   1.9925462   0.37753433]]\n",
            "\n",
            " [[ 1.302807    0.7136712   2.0887806  -0.41952264  0.04500336]\n",
            "  [ 2.1938808  -1.7099879  -0.90218985 -1.0825138   0.38677078]\n",
            "  [-0.6472828  -0.5842908   0.42583638 -1.4327314  -0.70862174]\n",
            "  [-0.58020014  0.06252498 -1.1741692   1.1953617   0.6843947 ]\n",
            "  [ 1.2711632   0.51131743 -0.8864238  -0.7371767  -0.41435468]]\n",
            "\n",
            " [[ 1.2416434  -0.13858801 -1.6760695   0.7443231   0.4301674 ]\n",
            "  [-0.15752494  0.25627434 -0.82412165  1.0433358  -0.03740359]\n",
            "  [ 0.93621606 -0.06186978 -0.5836557  -0.51928496 -0.520203  ]\n",
            "  [ 1.0861828  -2.176059    0.4842244  -0.37000254  0.7575769 ]\n",
            "  [-1.5202504  -0.6602328   0.21793754  0.08461989 -0.65281415]]\n",
            "\n",
            " [[-0.75776994  0.74604744  0.85247326 -0.66407746  1.2766043 ]\n",
            "  [ 0.78866553 -1.4561853   1.5243796   1.0350337  -1.2879734 ]\n",
            "  [-0.9159046   1.9274752  -0.35160184  0.73529404 -0.3450092 ]\n",
            "  [ 0.7610703   0.06038975 -1.9811854   0.9042435  -1.2723573 ]\n",
            "  [-0.19620825  0.50228715  0.37740874 -2.4458115  -0.6117096 ]]], shape=(5, 5, 5), dtype=float32)\n"
          ]
        }
      ]
    },
    {
      "cell_type": "code",
      "source": [
        "uniform_tensor=tf.random.uniform(\n",
        "    [5,5,5],\n",
        "    minval=0,\n",
        "    maxval=1000,\n",
        "\n",
        "    dtype=tf.float32,\n",
        "    seed=None,\n",
        "    name=None\n",
        ")\n",
        "print(uniform_tensor)"
      ],
      "metadata": {
        "colab": {
          "base_uri": "https://localhost:8080/"
        },
        "id": "JYbdmMccFpao",
        "outputId": "fb03b1e1-2b6c-4831-c35d-efbe9a3dbd79"
      },
      "execution_count": 13,
      "outputs": [
        {
          "output_type": "stream",
          "name": "stdout",
          "text": [
            "tf.Tensor(\n",
            "[[[457.70312  447.8128   827.7991   271.129    553.19714 ]\n",
            "  [957.2481   997.04065  681.50543  624.7252   696.63824 ]\n",
            "  [543.29254  671.52057   31.040192 232.94865  598.46686 ]\n",
            "  [656.4088   234.10594  503.83447  485.17072  651.4442  ]\n",
            "  [  9.557366 519.2956   136.25623  897.4583   140.50114 ]]\n",
            "\n",
            " [[247.89917  251.78278  661.21686  590.78564  655.50385 ]\n",
            "  [ 47.9089   150.50948  376.23346  918.88416  476.55188 ]\n",
            "  [346.45367  461.61664  147.78125   81.748604 880.62286 ]\n",
            "  [546.5623   373.0645   392.1336   423.1727    14.433861]\n",
            "  [997.1503   322.24213  956.8404   740.9524   446.47397 ]]\n",
            "\n",
            " [[414.4726   315.08804  591.89716  823.41455  160.06851 ]\n",
            "  [853.7713   275.1404   662.5495   926.47955  406.62946 ]\n",
            "  [489.11404  930.62177  977.2153   554.9443   378.6068  ]\n",
            "  [213.96553   26.423573 837.02936  635.86774  565.0895  ]\n",
            "  [717.6117   897.3037   631.1289   317.6154   158.79356 ]]\n",
            "\n",
            " [[176.6777   689.89215  156.95798  991.2535   936.74994 ]\n",
            "  [778.82825  312.81174  970.456    900.5636   830.10065 ]\n",
            "  [554.45874  244.60423  325.44684  982.6276   624.20966 ]\n",
            "  [168.89989  772.2409   504.58075  905.9712   258.07272 ]\n",
            "  [ 97.22185  222.23807  469.01453   73.30358  977.7209  ]]\n",
            "\n",
            " [[986.3884   972.2792   370.44846  787.64856  561.4914  ]\n",
            "  [471.33743  570.6568   135.51295  478.07443  968.93646 ]\n",
            "  [630.42615  194.391    531.9252    64.79526  678.65393 ]\n",
            "  [466.29477  757.6619    85.406425 790.03955  532.6398  ]\n",
            "  [389.3404    95.103745 976.45667  634.32227   71.2378  ]]], shape=(5, 5, 5), dtype=float32)\n"
          ]
        }
      ]
    },
    {
      "cell_type": "markdown",
      "source": [
        "Tensor indexing"
      ],
      "metadata": {
        "id": "XrAjy84YVM6P"
      }
    },
    {
      "cell_type": "code",
      "source": [
        "tensor2=tf.constant([\n",
        "    [1,2,3,4],\n",
        "    [2,3,4,5],\n",
        "    [1,2,4,5],\n",
        "    [7,4,5,5]\n",
        "])\n",
        "print(tensor2[0:4,0:3])"
      ],
      "metadata": {
        "colab": {
          "base_uri": "https://localhost:8080/"
        },
        "id": "hwOkeD1oUdiO",
        "outputId": "1488d8d2-e829-48da-ca81-ea86bb38ca49"
      },
      "execution_count": 14,
      "outputs": [
        {
          "output_type": "stream",
          "name": "stdout",
          "text": [
            "tf.Tensor(\n",
            "[[1 2 3]\n",
            " [2 3 4]\n",
            " [1 2 4]\n",
            " [7 4 5]], shape=(4, 3), dtype=int32)\n"
          ]
        }
      ]
    },
    {
      "cell_type": "code",
      "source": [
        "tensor2=tf.constant([\n",
        "    [1,2,3,4],\n",
        "    [2,3,4,5],\n",
        "    [1,2,4,5],\n",
        "    [7,4,5,5]\n",
        "])\n",
        "print(tensor2[2,0:3])"
      ],
      "metadata": {
        "colab": {
          "base_uri": "https://localhost:8080/"
        },
        "id": "xMA5lISeVeQG",
        "outputId": "ea965f41-16ff-452b-e11c-3ac5e481f477"
      },
      "execution_count": 15,
      "outputs": [
        {
          "output_type": "stream",
          "name": "stdout",
          "text": [
            "tf.Tensor([1 2 4], shape=(3,), dtype=int32)\n"
          ]
        }
      ]
    },
    {
      "cell_type": "code",
      "source": [
        "tensor3_abs=tf.abs(tensor3)\n",
        "print(tensor3)"
      ],
      "metadata": {
        "colab": {
          "base_uri": "https://localhost:8080/"
        },
        "id": "SRWi2V4lXXMW",
        "outputId": "cb820e88-c3b5-433d-faa5-72a4fa60bb1a"
      },
      "execution_count": 16,
      "outputs": [
        {
          "output_type": "stream",
          "name": "stdout",
          "text": [
            "tf.Tensor(\n",
            "[[[1 2 3 4]\n",
            "  [2 3 4 5]]\n",
            "\n",
            " [[1 2 4 5]\n",
            "  [7 4 5 5]]\n",
            "\n",
            " [[1 2 3 4]\n",
            "  [2 3 4 5]]\n",
            "\n",
            " [[1 2 4 5]\n",
            "  [7 4 5 5]]], shape=(4, 2, 4), dtype=int32)\n"
          ]
        }
      ]
    },
    {
      "cell_type": "markdown",
      "source": [
        "Tensor Argmax"
      ],
      "metadata": {
        "id": "bOUEDkyO0fpd"
      }
    },
    {
      "cell_type": "code",
      "source": [
        "x_argmax=tf.constant([100,40,650,10000,30])\n",
        "print(tf.math.argmax(x_argmax))"
      ],
      "metadata": {
        "colab": {
          "base_uri": "https://localhost:8080/"
        },
        "id": "IacQD2Uk0DsE",
        "outputId": "cc6f0ed8-d282-410f-b549-91a4111b1a75"
      },
      "execution_count": 17,
      "outputs": [
        {
          "output_type": "stream",
          "name": "stdout",
          "text": [
            "tf.Tensor(3, shape=(), dtype=int64)\n"
          ]
        }
      ]
    },
    {
      "cell_type": "code",
      "source": [
        "x_argmin=tf.constant([100,40,650,10000,30])\n",
        "print(tf.math.argmin(x_argmin))"
      ],
      "metadata": {
        "colab": {
          "base_uri": "https://localhost:8080/"
        },
        "id": "0T7NEMi90lKF",
        "outputId": "7f1b11a2-e8b4-4802-da9b-fd3b66e28cb3"
      },
      "execution_count": 20,
      "outputs": [
        {
          "output_type": "stream",
          "name": "stdout",
          "text": [
            "tf.Tensor(4, shape=(), dtype=int64)\n"
          ]
        }
      ]
    },
    {
      "cell_type": "code",
      "source": [
        "dimtens2_xargmax=tf.constant([\n",
        "    [1,2,3,4],\n",
        "    [2,3,4,5],\n",
        "    [1,2,4,5],\n",
        "    [7,4,5,5]\n",
        "])\n",
        "print(tf.math.argmax(dimtens2_xargmax,0))"
      ],
      "metadata": {
        "colab": {
          "base_uri": "https://localhost:8080/"
        },
        "id": "8paFae7x1T18",
        "outputId": "d2763305-4f35-4ec1-9b8d-f97c907a1faf"
      },
      "execution_count": 29,
      "outputs": [
        {
          "output_type": "stream",
          "name": "stdout",
          "text": [
            "tf.Tensor([3 3 3 1], shape=(4,), dtype=int64)\n"
          ]
        }
      ]
    },
    {
      "cell_type": "code",
      "source": [
        "dimtens2_xargmin=tf.constant([\n",
        "    [1,2,3,4],\n",
        "    [2,3,4,5],\n",
        "    [1,2,4,5],\n",
        "    [7,4,5,5]\n",
        "])\n",
        "print(tf.math.argmin(dimtens2_xargmin,0))"
      ],
      "metadata": {
        "colab": {
          "base_uri": "https://localhost:8080/"
        },
        "id": "8NsabLSh2Dfk",
        "outputId": "26e0ec1c-3a43-4b8b-bedd-688540fe1b29"
      },
      "execution_count": 27,
      "outputs": [
        {
          "output_type": "stream",
          "name": "stdout",
          "text": [
            "tf.Tensor([0 0 0 0], shape=(4,), dtype=int64)\n"
          ]
        }
      ]
    },
    {
      "cell_type": "markdown",
      "source": [
        "Tensor Reduce Sum"
      ],
      "metadata": {
        "id": "QIDqU0Kq4ELT"
      }
    },
    {
      "cell_type": "code",
      "source": [
        "reduce_tensor_sum=tf.constant([\n",
        "    [1,2,3,4],\n",
        "    [2,3,4,5],\n",
        "    [1,2,4,5],\n",
        "    [7,4,5,5]\n",
        "])\n",
        "print(tf.math.reduce_sum(reduce_tensor_sum))"
      ],
      "metadata": {
        "colab": {
          "base_uri": "https://localhost:8080/"
        },
        "id": "fqwEfUJK3TLE",
        "outputId": "071fa6e8-55a7-4b49-9d71-ec322fd01047"
      },
      "execution_count": 31,
      "outputs": [
        {
          "output_type": "stream",
          "name": "stdout",
          "text": [
            "tf.Tensor(57, shape=(), dtype=int32)\n"
          ]
        }
      ]
    },
    {
      "cell_type": "code",
      "source": [
        "reduce_tensor_max=tf.constant([\n",
        "    [1,2,3,4],\n",
        "    [2,3,4,5],\n",
        "    [1,2,4,5],\n",
        "    [7,4,5,5]\n",
        "])\n",
        "print(tf.math.reduce_max(reduce_tensor_max))"
      ],
      "metadata": {
        "colab": {
          "base_uri": "https://localhost:8080/"
        },
        "id": "qLaeYKKX4aV0",
        "outputId": "82fc1731-f958-47cb-cf5f-cecb1e63ddf2"
      },
      "execution_count": 32,
      "outputs": [
        {
          "output_type": "stream",
          "name": "stdout",
          "text": [
            "tf.Tensor(7, shape=(), dtype=int32)\n"
          ]
        }
      ]
    },
    {
      "cell_type": "code",
      "source": [
        "reduce_tensor_min=tf.constant([\n",
        "    [1,2,3,4],\n",
        "    [2,3,4,5],\n",
        "    [1,2,4,5],\n",
        "    [7,4,5,5]\n",
        "])\n",
        "print(tf.math.reduce_min(reduce_tensor_min))"
      ],
      "metadata": {
        "colab": {
          "base_uri": "https://localhost:8080/"
        },
        "id": "T5DFSeLe4jPk",
        "outputId": "5e61f8d1-5a98-4f08-98a9-58e8638b74f5"
      },
      "execution_count": 33,
      "outputs": [
        {
          "output_type": "stream",
          "name": "stdout",
          "text": [
            "tf.Tensor(1, shape=(), dtype=int32)\n"
          ]
        }
      ]
    },
    {
      "cell_type": "markdown",
      "source": [
        "Tensor Std"
      ],
      "metadata": {
        "id": "MW-bPl8F5fH9"
      }
    },
    {
      "cell_type": "code",
      "source": [
        "reduce_tensor_std=tf.constant([\n",
        "    [1,2,3,4],\n",
        "    [2,3,4,5],\n",
        "    [1,2,4,5],\n",
        "    [7,4,5,5]\n",
        "],dtype=tf.float32)\n",
        "print(tf.math.reduce_std(reduce_tensor_std))"
      ],
      "metadata": {
        "colab": {
          "base_uri": "https://localhost:8080/"
        },
        "id": "Kdvnn_PW5A9c",
        "outputId": "158cac7f-b349-4af7-9c7e-5df8ce31eeb5"
      },
      "execution_count": 35,
      "outputs": [
        {
          "output_type": "stream",
          "name": "stdout",
          "text": [
            "tf.Tensor(1.6189792, shape=(), dtype=float32)\n"
          ]
        }
      ]
    },
    {
      "cell_type": "code",
      "source": [
        "print(tf.math.top_k(reduce_tensor_max))"
      ],
      "metadata": {
        "colab": {
          "base_uri": "https://localhost:8080/"
        },
        "id": "Nz94bMkq6ScE",
        "outputId": "c9274e1b-09e3-4951-91df-1672f81a9eae"
      },
      "execution_count": 36,
      "outputs": [
        {
          "output_type": "stream",
          "name": "stdout",
          "text": [
            "TopKV2(values=<tf.Tensor: shape=(4, 1), dtype=int32, numpy=\n",
            "array([[4],\n",
            "       [5],\n",
            "       [5],\n",
            "       [7]], dtype=int32)>, indices=<tf.Tensor: shape=(4, 1), dtype=int32, numpy=\n",
            "array([[3],\n",
            "       [3],\n",
            "       [3],\n",
            "       [0]], dtype=int32)>)\n"
          ]
        }
      ]
    },
    {
      "cell_type": "code",
      "source": [
        "x_mat=tf.constant([\n",
        "    [1,2,3,4],\n",
        "    [2,3,4,5],\n",
        "    [1,2,4,5],\n",
        "    [7,4,5,5]\n",
        "])\n",
        "y_mat=tf.constant([\n",
        "    [1,2,3,4],\n",
        "    [2,3,4,5],\n",
        "    [1,2,4,5],\n",
        "    [7,4,5,5]\n",
        "])\n",
        "print(tf.linalg.matmul(x_mat,y_mat))"
      ],
      "metadata": {
        "colab": {
          "base_uri": "https://localhost:8080/"
        },
        "id": "EHbEn20I7P0s",
        "outputId": "d094dc9f-87a5-49e7-b66c-faa2ddce5f40"
      },
      "execution_count": 37,
      "outputs": [
        {
          "output_type": "stream",
          "name": "stdout",
          "text": [
            "tf.Tensor(\n",
            "[[36 30 43 49]\n",
            " [47 41 59 68]\n",
            " [44 36 52 59]\n",
            " [55 56 82 98]], shape=(4, 4), dtype=int32)\n"
          ]
        }
      ]
    }
  ]
}